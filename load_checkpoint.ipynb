{
 "cells": [
  {
   "cell_type": "markdown",
   "metadata": {},
   "source": [
    "# Pytorch lightning으로 저장한 model 제대로 불러와지는지 확인"
   ]
  },
  {
   "cell_type": "code",
   "execution_count": 15,
   "metadata": {},
   "outputs": [
    {
     "name": "stdout",
     "output_type": "stream",
     "text": [
      "{'image_size': 224, 'patch_size': 32, 'mode': 'base', 'embed_dim': 512}\n"
     ]
    },
    {
     "name": "stdout",
     "output_type": "stream",
     "text": [
      "Take key state_dict in provided checkpoint dict\n",
      "Pretrained weights found at /shared/js.yun/DINO_sagemaker/ckpts/exp/epoch=48.ckpt and loaded with msg: <All keys matched successfully>\n"
     ]
    }
   ],
   "source": [
    "import torch\n",
    "from vision_transformer3 import vision_transformer3 \n",
    "\n",
    "default_kwargs = {\n",
    "                            # image\n",
    "                        'image_size': 224,\n",
    "                        'patch_size': 32, # if '32' in hparams.arch else 16,\n",
    "                        'mode': 'base',\n",
    "                        'embed_dim': 512\n",
    "                    }\n",
    "print(default_kwargs)\n",
    "model=vision_transformer3(**default_kwargs)\n",
    "\n",
    "\n",
    "pretrained_weights = '/shared/js.yun/DINO_sagemaker/ckpts/exp/epoch=48.ckpt'\n",
    "state_dict = torch.load(pretrained_weights, map_location=\"cpu\")\n",
    "# checkpoint_key = 'teacher'\n",
    "checkpoint_key = 'state_dict'\n",
    "\n",
    "# for i in state_dict:\n",
    "#     print(i)\n",
    "\n",
    "if checkpoint_key is not None and checkpoint_key in state_dict:\n",
    "    print(f\"Take key {checkpoint_key} in provided checkpoint dict\")\n",
    "    state_dict = state_dict[checkpoint_key]\n",
    "    # print(state_dict)\n",
    "\n",
    "teacher_dict = {}\n",
    "for k,v in state_dict.items():\n",
    "    if 'teacher.backbone' in k:\n",
    "        key = k.replace(\"teacher.backbone.\", \"\")\n",
    "        teacher_dict[key] = v\n",
    "\n",
    "# remove `module.` prefix\n",
    "state_dict = {k.replace(\"module.\", \"\"): v for k, v in state_dict.items()}\n",
    "# remove `backbone.` prefix induced by multicrop wrapper\n",
    "state_dict = {k.replace(\"backbone.\", \"\"): v for k, v in state_dict.items()}\n",
    "msg = model.load_state_dict(teacher_dict, strict=False)\n",
    "print('Pretrained weights found at {} and loaded with msg: {}'.format(pretrained_weights, msg))"
   ]
  },
  {
   "cell_type": "markdown",
   "metadata": {},
   "source": [
    "# Dataloader 좌표 합치는 부분 속도 확인"
   ]
  },
  {
   "cell_type": "code",
   "execution_count": 107,
   "metadata": {},
   "outputs": [
    {
     "name": "stdout",
     "output_type": "stream",
     "text": [
      "15.452617883682251\n",
      "88.03526329994202\n"
     ]
    }
   ],
   "source": [
    "import numpy as np\n",
    "import time\n",
    "\n",
    "data = np.random.randint(0,2000000000, size=(50000000,2), dtype=np.int64)\n",
    "# print(data)\n",
    "\n",
    "# list append\n",
    "start = time.time()\n",
    "bucket = []\n",
    "for i in data:\n",
    "    bucket.append(i)\n",
    "print(time.time()-start)\n",
    "bucket = np.vstack(bucket)\n",
    "print(time.time()-start)\n",
    "# print(bucket[0])\n",
    "\n",
    "# # list extend\n",
    "# start = time.time()\n",
    "# bucket = []\n",
    "# for i in data:\n",
    "#     bucket.extend([i])\n",
    "# print(time.time()-start)\n",
    "# bucket = np.vstack(bucket)\n",
    "# # print(bucket)\n",
    "# print(time.time()-start)\n",
    "\n",
    "\n",
    "# # list extend\n",
    "# start = time.time()\n",
    "# bucket = np.empty_like(data)\n",
    "# for i,j in enumerate(data):\n",
    "#     bucket[i] = j\n",
    "# # print(time.time()-start)\n",
    "# # bucket = np.vstack(bucket)\n",
    "# # print(bucket)\n",
    "# print(time.time()-start)\n",
    "\n",
    "\n",
    "# # list append, extend\n",
    "# start = time.time()\n",
    "# bucket = []\n",
    "# bucket2 = []\n",
    "# for i in data:\n",
    "#     bucket.append(i)\n",
    "#     bucket2.extend([i])\n",
    "# bucket = np.vstack(bucket)\n",
    "# bucket2 = np.vstack(bucket)\n",
    "# # print(bucket)\n",
    "# print(time.time()-start)\n",
    "\n",
    "\n",
    "\n",
    "# numpy append\n",
    "# start = time.time()\n",
    "# bucket = np.array([], dtype=np.int64).reshape(0,2)\n",
    "# for i in data:\n",
    "#     bucket = np.vstack([bucket, i])\n",
    "# # print(bucket)\n",
    "# print(time.time()-start)\n"
   ]
  }
 ],
 "metadata": {
  "kernelspec": {
   "display_name": "base",
   "language": "python",
   "name": "python3"
  },
  "language_info": {
   "codemirror_mode": {
    "name": "ipython",
    "version": 3
   },
   "file_extension": ".py",
   "mimetype": "text/x-python",
   "name": "python",
   "nbconvert_exporter": "python",
   "pygments_lexer": "ipython3",
   "version": "3.7.13"
  }
 },
 "nbformat": 4,
 "nbformat_minor": 2
}
